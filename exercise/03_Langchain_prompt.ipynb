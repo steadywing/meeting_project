{
 "cells": [
  {
   "cell_type": "markdown",
   "metadata": {},
   "source": [
    "# 03. Langhcain Prompt"
   ]
  },
  {
   "cell_type": "code",
   "execution_count": null,
   "metadata": {},
   "outputs": [
    {
     "name": "stdout",
     "output_type": "stream",
     "text": [
      "content='Python은 고급 프로그래밍 언어로, 1991년 귀도 반 로썸(Guido van Rossum)에 의해 처음 개발되었습니다. Python은 다음과 같은 특징을 가지고 있습니다:\\n\\n1. **간결하고 가독성이 좋은 문법**: Python은 코드가 읽기 쉽고 이해하기 쉽게 설계되어 있어, 초보자부터 전문가까지 널리 사용됩니다.\\n\\n2. **다양한 용도**: 웹 개발, 데이터 분석, 인공지능, 머신러닝, 자동화 스크립트, 게임 개발 등 여러 분야에서 활용됩니다.\\n\\n3. **풍부한 라이브러리**: 다양한 작업을 쉽게 수행할 수 있도록 도와주는 많은 라이브러리와 프레임워크가 있습니다. 예를 들어, NumPy와 pandas는 데이터 분석에, Django와 Flask는 웹 개발에 사용됩니다.\\n\\n4. **크로스 플랫폼**: Windows, macOS, Linux 등 다양한 운영체제에서 실행할 수 있습니다.\\n\\n5. **대규모 커뮤니티**: 활발한 사용자 커뮤니티가 있어, 문제 해결이나 자료를 찾는 데 도움을 받을 수 있습니다.\\n\\n이러한 이유로 Python은 프로그래밍을 배우고자 하는 사람들에게 인기 있는 선택입니다.' additional_kwargs={'refusal': None} response_metadata={'token_usage': {'completion_tokens': 267, 'prompt_tokens': 19, 'total_tokens': 286, 'completion_tokens_details': {'accepted_prediction_tokens': 0, 'audio_tokens': 0, 'reasoning_tokens': 0, 'rejected_prediction_tokens': 0}, 'prompt_tokens_details': {'audio_tokens': 0, 'cached_tokens': 0}}, 'model_name': 'gpt-4o-mini-2024-07-18', 'system_fingerprint': 'fp_dbaca60df0', 'id': 'chatcmpl-BRIfTAEujespZfLTCwZzpVaFBSNmh', 'finish_reason': 'stop', 'logprobs': None} id='run-5884804f-954c-42fc-9ea5-a3f80a88270b-0' usage_metadata={'input_tokens': 19, 'output_tokens': 267, 'total_tokens': 286, 'input_token_details': {'audio': 0, 'cache_read': 0}, 'output_token_details': {'audio': 0, 'reasoning': 0}}\n"
     ]
    }
   ],
   "source": [
    "from langchain_openai import ChatOpenAI\n",
    "from dotenv import load_dotenv\n",
    "load_dotenv()\n",
    "\n",
    "model = ChatOpenAI(\n",
    "    model=\"gpt-4o-mini\",  # 또는 gpt-4\n",
    "    temperature=0.5       # 창의성 정도\n",
    ")"
   ]
  },
  {
   "cell_type": "code",
   "execution_count": 28,
   "metadata": {},
   "outputs": [],
   "source": [
    "from langchain_core.prompts import PromptTemplate\n",
    "\n",
    "def make_chain(template):\n",
    "    prompt = PromptTemplate.from_template(template)\n",
    "    chain = prompt | model \n",
    "\n",
    "    return chain "
   ]
  },
  {
   "cell_type": "markdown",
   "metadata": {},
   "source": [
    "## 회의록 요약"
   ]
  },
  {
   "cell_type": "code",
   "execution_count": 3,
   "metadata": {},
   "outputs": [
    {
     "name": "stdout",
     "output_type": "stream",
     "text": [
      " 다들 도착하셨나요?\n",
      " 그럼 회의 시작할게요\n",
      " 먼저 디자인팀 상황부터 공유해 주시겠어요?\n",
      " 네, 디자인팀은 이번 주까지 시한 1차 수정본 제출 목표로 작업 중입니다\n",
      " 주요 피드백 반영했고, 마감은 목요일까지 가능합니다\n",
      " 좋아요\n",
      " 개발팀은요?\n",
      " 기능 개발은 80% 얻었습니다\n",
      " 어... 요그인 기능과 개시판 기능은 이번 주에 마무리할 예정이고\n",
      " 다음 주 월요일부터 내부 테스트를 시작하려고 합니다\n",
      " 일정대로 잘 진행되고 있네요\n",
      " 마케팅 쪽은 어떤가요?\n",
      " 마케팅팀은 5월 초에 있을 프로모션을 준비 중입니다\n",
      " 다만 이번 주 안으로 기획 초안을 작성하는 건 조금 타이트할 것 같은데\n",
      " 가능하다면 기획 초안 제출 기한을 다음 주 수요일까지로 조정해 주실 수 있을까요?\n",
      " 음, 알겠어요\n",
      " 전체 일정에는 영향이 크지 않으니 다음 주 수요일까지로 조정합시다\n",
      " 그럼 지금 남은 과제는 기능 테스트 계획소립, 디자인 수정 최종본 검토,\n",
      " 마케팅 기획 초안 점검 이 세 가지로 정리할 수 있겠네요\n",
      " 네, 테스트 계획 문서는 이번 주 금요일까지 작성해서 공유했습니다\n",
      " 디자인 수정보는 목요일에 완성되는 대로 바로 공유 드리겠습니다\n",
      " 좋아요\n",
      " 마지막으로 다음 회의 일정을 잡을게요\n",
      " 3월 29일, 월요일, 오전 10시에 모두 괜찮으세요?\n",
      " 죄송한데 그날 오전에 내부 회의가 있어서 11시 이후로 미뤄주실 수 있을까요?\n",
      " 저는 괜찮습니다\n",
      " 저도 11시 이후면 문제 없습니다\n",
      " 알겠습니다\n",
      " 그럼 다음 회의는 4월 29일, 월요일, 오전 11시로 확정하겠습니다\n",
      " 오늘 회의는 여기까지 하겠습니다\n",
      " 모두 수고하셨습니다\n",
      "\n"
     ]
    }
   ],
   "source": [
    "with open(\"./output/whisper_full_script.txt\", \"r\") as f:\n",
    "    meeting_transcript = f.read()\n",
    "\n",
    "print(meeting_transcript)"
   ]
  },
  {
   "cell_type": "code",
   "execution_count": 25,
   "metadata": {},
   "outputs": [],
   "source": [
    "template = \"\"\"\n",
    "너는 회의록 요약 전문가야.\n",
    "다음 회의록을 읽고, 아래와 같은 형식으로 정리해줘.\n",
    "\n",
    "[회의록 요약 양식]\n",
    "- 회의 일시:  \n",
    "- 회의 주제:  \n",
    "- 내용 요약: 목록형 리스트로 표현\n",
    "- 팀 별 요약:\n",
    "  - [팀 1]: 목록형 리스트로 표현\n",
    "  - [팀 2]:  목록형 리스트로 표현\n",
    "  - ...\n",
    "...\n",
    "\n",
    "[회의록]\n",
    "{meeting_transcript}\n",
    "\"\"\""
   ]
  },
  {
   "cell_type": "code",
   "execution_count": 29,
   "metadata": {},
   "outputs": [
    {
     "name": "stdout",
     "output_type": "stream",
     "text": [
      "[회의록 요약 양식]\n",
      "- 회의 일시: 2023년 3월 29일\n",
      "- 회의 주제: 팀별 진행 상황 및 다음 회의 일정 조정\n",
      "- 내용 요약:\n",
      "  - 디자인팀은 1차 수정본 제출 목표로 작업 중이며, 목요일까지 마감 가능.\n",
      "  - 개발팀은 기능 개발 80% 완료, 요그인과 개시판 기능 이번 주 마무리 예정, 다음 주 월요일부터 내부 테스트 시작.\n",
      "  - 마케팅팀은 5월 초 프로모션 준비 중, 기획 초안 제출 기한을 다음 주 수요일로 조정 요청.\n",
      "  - 전체 남은 과제는 기능 테스트 계획 수립, 디자인 수정 최종본 검토, 마케팅 기획 초안 점검.\n",
      "  - 다음 회의 일정은 4월 29일, 월요일 오전 11시로 확정.\n",
      "\n",
      "- 팀 별 요약:\n",
      "  - 디자인팀:\n",
      "    - 1차 수정본 제출 목표로 작업 중.\n",
      "    - 주요 피드백 반영 완료.\n",
      "    - 목요일까지 마감 가능.\n",
      "  - 개발팀:\n",
      "    - 기능 개발 80% 완료.\n",
      "    - 요그인 기능과 개시판 기능 이번 주 마무리 예정.\n",
      "    - 다음 주 월요일부터 내부 테스트 시작 예정.\n",
      "  - 마케팅팀:\n",
      "    - 5월 초 프로모션 준비 중.\n",
      "    - 기획 초안 제출 기한을 다음 주 수요일로 조정 요청.\n"
     ]
    }
   ],
   "source": [
    "chain = make_chain(template)\n",
    "\n",
    "response = chain.invoke({\"meeting_transcript\": meeting_transcript})\n",
    "print(response.content)"
   ]
  },
  {
   "cell_type": "markdown",
   "metadata": {},
   "source": [
    "## Do-To List"
   ]
  },
  {
   "cell_type": "code",
   "execution_count": null,
   "metadata": {},
   "outputs": [],
   "source": [
    "template = \"\"\"\n",
    "너는 회의록에서 해야 할 일을 정리하는 비서야.\n",
    "회의정보에는 내 이름과 부서가 포함되어 있어. \n",
    "이를 참고하여 아래 회의록을 읽고, 부서에 맞는 내가 할 일을 간단히 작성해줘.\n",
    "\n",
    "[형식]\n",
    "항목들을 콤마(,)로 구분하여 작성\n",
    "\n",
    "[회의 정보]\n",
    "{meeting_info}\n",
    "\n",
    "[회의록]\n",
    "{meeting_transcript}\n",
    "\"\"\""
   ]
  },
  {
   "cell_type": "code",
   "execution_count": 53,
   "metadata": {},
   "outputs": [
    {
     "name": "stdout",
     "output_type": "stream",
     "text": [
      "할 일: 디자인 수정 최종본 검토, 마케팅 기획 초안 점검, 기능 테스트 계획서 작성 및 공유\n"
     ]
    }
   ],
   "source": [
    "chain = make_chain(template)\n",
    "\n",
    "response = chain.invoke(\n",
    "    {\n",
    "        \"meeting_info\": {\n",
    "            \"name\": \"김나래\",\n",
    "            \"department\": \"디자인\",\n",
    "            \"meeting_date\": \"2025-04-22\"\n",
    "        },\n",
    "        \"meeting_transcript\": meeting_transcript\n",
    "    }\n",
    ")\n",
    "print(response.content)"
   ]
  },
  {
   "cell_type": "markdown",
   "metadata": {},
   "source": [
    "## 일정 추출"
   ]
  },
  {
   "cell_type": "code",
   "execution_count": 59,
   "metadata": {},
   "outputs": [],
   "source": [
    "template = \"\"\"\n",
    "너는 회의록 중 날짜와 시간 정보를 정리하는 역할이야.\n",
    "회의 정보를 보고, 오늘 회의를 기준일로 설정하고,\n",
    "회의록을 읽고, 일정 정보를 아래와 같은 JSON 형식으로 정리해줘.\n",
    "\n",
    "형식 예시:\n",
    "[\n",
    "  {{\n",
    "     \"title\": \"회의\",\n",
    "     \"start\": \"2025-05-01T10:00:00\",\n",
    "     \"end\": \"2025-05-05T11:00:00\"\n",
    "  }}\n",
    "]\n",
    "\n",
    "회의 정보:\n",
    "{meeting_info}\n",
    "\n",
    "회의록:\n",
    "{meeting_transcript}\n",
    "\"\"\""
   ]
  },
  {
   "cell_type": "code",
   "execution_count": 61,
   "metadata": {},
   "outputs": [
    {
     "name": "stdout",
     "output_type": "stream",
     "text": [
      "기준일을 2025년 4월 22일 화요일로 설정하고, 회의록에서 추출한 일정 정보를 JSON 형식으로 정리하면 다음과 같습니다:\n",
      "\n",
      "```json\n",
      "[\n",
      "  {\n",
      "    \"title\": \"디자인팀 1차 수정본 제출\",\n",
      "    \"start\": \"2025-04-22T00:00:00\",\n",
      "    \"end\": \"2025-04-23T23:59:59\"\n",
      "  },\n",
      "  {\n",
      "    \"title\": \"기능 개발 마무리\",\n",
      "    \"start\": \"2025-04-22T00:00:00\",\n",
      "    \"end\": \"2025-04-25T23:59:59\"\n",
      "  },\n",
      "  {\n",
      "    \"title\": \"내부 테스트 시작\",\n",
      "    \"start\": \"2025-04-29T00:00:00\",\n",
      "    \"end\": \"2025-04-29T23:59:59\"\n",
      "  },\n",
      "  {\n",
      "    \"title\": \"마케팅 기획 초안 제출 기한\",\n",
      "    \"start\": \"2025-04-22T00:00:00\",\n",
      "    \"end\": \"2025-04-29T23:59:59\"\n",
      "  },\n",
      "  {\n",
      "    \"title\": \"다음 회의\",\n",
      "    \"start\": \"2025-04-29T11:00:00\",\n",
      "    \"end\": \"2025-04-29T12:00:00\"\n",
      "  }\n",
      "]\n",
      "``` \n",
      "\n",
      "위 JSON은 회의록에서 언급된 주요 일정들을 기반으로 작성되었습니다. 각 일정의 시작과 종료 시간을 적절히 설정하였습니다.\n"
     ]
    }
   ],
   "source": [
    "chain = make_chain(template)\n",
    "\n",
    "response = chain.invoke(\n",
    "    {\n",
    "        \"meeting_info\": {\n",
    "            \"name\": \"김나래\",\n",
    "            \"department\": \"디자인\",\n",
    "            \"meeting_date\": \"2025-04-22 Tuesday\"\n",
    "        },\n",
    "        \"meeting_transcript\": meeting_transcript\n",
    "    }\n",
    ")\n",
    "print(response.content)"
   ]
  }
 ],
 "metadata": {
  "kernelspec": {
   "display_name": ".venv",
   "language": "python",
   "name": "python3"
  },
  "language_info": {
   "codemirror_mode": {
    "name": "ipython",
    "version": 3
   },
   "file_extension": ".py",
   "mimetype": "text/x-python",
   "name": "python",
   "nbconvert_exporter": "python",
   "pygments_lexer": "ipython3",
   "version": "3.11.7"
  }
 },
 "nbformat": 4,
 "nbformat_minor": 2
}
