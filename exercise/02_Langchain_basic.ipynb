{
 "cells": [
  {
   "cell_type": "markdown",
   "metadata": {},
   "source": [
    "# 02.Langchain Basic"
   ]
  },
  {
   "cell_type": "markdown",
   "metadata": {},
   "source": [
    "## 환경 설치"
   ]
  },
  {
   "cell_type": "code",
   "execution_count": null,
   "metadata": {},
   "outputs": [],
   "source": [
    "# pip install langchain\n",
    "# pip install langchain-openai\n",
    "# pip install python-dotenv"
   ]
  },
  {
   "cell_type": "markdown",
   "metadata": {},
   "source": [
    "## OpenAI API 사용"
   ]
  },
  {
   "cell_type": "code",
   "execution_count": 4,
   "metadata": {},
   "outputs": [
    {
     "name": "stdout",
     "output_type": "stream",
     "text": [
      "content='AI 에이전트(AI Agent)는 인공지능 기술을 활용하여 특정 작업이나 문제를 해결하는 소프트웨어 프로그램이나 시스템을 의미합니다. 이러한 에이전트는 주어진 환경에서 자율적으로 행동하고, 학습하며, 결정을 내릴 수 있는 능력을 갖추고 있습니다. \\n\\nAI 에이전트는 여러 형태로 존재할 수 있으며, 예를 들어:\\n\\n1. **챗봇**: 사용자와 대화하며 질문에 답변하거나 정보를 제공하는 에이전트.\\n2. **게임 AI**: 게임 내에서 NPC(Non-Player Character)가 플레이어와 상호작용하거나 게임의 규칙에 따라 행동하는 에이전트.\\n3. **로봇**: 물리적 환경에서 작업을 수행하는 로봇 시스템.\\n4. **추천 시스템**: 사용자 데이터를 기반으로 개인화된 콘텐츠나 제품을 추천하는 에이전트.\\n\\n이러한 AI 에이전트는 일반적으로 머신러닝, 자연어 처리, 컴퓨터 비전 등의 기술을 활용하여 동작합니다. AI 에이전트의 주요 목표는 주어진 작업을 효율적으로 수행하고, 사용자와의 상호작용을 개선하며, 지속적으로 학습하여 성능을 향상시키는 것입니다.' additional_kwargs={'refusal': None} response_metadata={'token_usage': {'completion_tokens': 273, 'prompt_tokens': 12, 'total_tokens': 285, 'completion_tokens_details': {'accepted_prediction_tokens': 0, 'audio_tokens': 0, 'reasoning_tokens': 0, 'rejected_prediction_tokens': 0}, 'prompt_tokens_details': {'audio_tokens': 0, 'cached_tokens': 0}}, 'model_name': 'gpt-4o-mini-2024-07-18', 'system_fingerprint': 'fp_0392822090', 'id': 'chatcmpl-BRPyPLoTx5jZrM9p7sEE4NLVSKbs8', 'finish_reason': 'stop', 'logprobs': None} id='run-e0516774-ff9a-4f50-910b-77476a122c01-0' usage_metadata={'input_tokens': 12, 'output_tokens': 273, 'total_tokens': 285, 'input_token_details': {'audio': 0, 'cache_read': 0}, 'output_token_details': {'audio': 0, 'reasoning': 0}}\n"
     ]
    }
   ],
   "source": [
    "from langchain_openai import ChatOpenAI\n",
    "from dotenv import load_dotenv\n",
    "load_dotenv()\n",
    "\n",
    "model = ChatOpenAI(\n",
    "    model=\"gpt-4o-mini\",  # 또는 gpt-4\n",
    "    temperature=0.5       # 창의성 정도\n",
    ")\n",
    "\n",
    "response = model.invoke(\"AI Agent가 뭐야\")\n",
    "print(response)"
   ]
  },
  {
   "cell_type": "markdown",
   "metadata": {},
   "source": [
    "## 프롬프트 사용 1"
   ]
  },
  {
   "cell_type": "code",
   "execution_count": 11,
   "metadata": {},
   "outputs": [
    {
     "data": {
      "text/plain": [
       "StringPromptValue(text='오늘 날씨는 비이고, 나는 우울한 기분이야. 점심 메뉴를 추천해줘.')"
      ]
     },
     "execution_count": 11,
     "metadata": {},
     "output_type": "execute_result"
    }
   ],
   "source": [
    "from langchain_core.prompts import PromptTemplate\n",
    "\n",
    "template = \"오늘 날씨는 {weather}이고, 나는 {emotion}한 기분이야. 점심 메뉴를 추천해줘.\"\n",
    "prompt = PromptTemplate.from_template(template)\n",
    "\n",
    "prompt.invoke(\n",
    "    {\n",
    "        \"weather\": \"비\",\n",
    "        \"emotion\": \"우울\"\n",
    "    }\n",
    ")"
   ]
  },
  {
   "cell_type": "code",
   "execution_count": 7,
   "metadata": {},
   "outputs": [
    {
     "data": {
      "text/plain": [
       "AIMessage(content='비 오는 날에는 따뜻하고 기분이 좋아지는 음식이 최고야! 따뜻한 국물 있는 라면이나 우동 어때? 아니면 집에서 간단하게 만들 수 있는 계란찜도 좋고! 따뜻한 음식을 먹으면서 기분이 좀 나아질 거야. 혹시 다른 메뉴도 궁금하면 말해줘!', additional_kwargs={'refusal': None}, response_metadata={'token_usage': {'completion_tokens': 80, 'prompt_tokens': 58, 'total_tokens': 138, 'completion_tokens_details': {'accepted_prediction_tokens': 0, 'audio_tokens': 0, 'reasoning_tokens': 0, 'rejected_prediction_tokens': 0}, 'prompt_tokens_details': {'audio_tokens': 0, 'cached_tokens': 0}}, 'model_name': 'gpt-4o-mini-2024-07-18', 'system_fingerprint': 'fp_0392822090', 'id': 'chatcmpl-BRQ32xhUccLcOmsNphcd1dMvdkDML', 'finish_reason': 'stop', 'logprobs': None}, id='run-c39cb1f7-f25b-4747-a293-beb9bf58d0e8-0', usage_metadata={'input_tokens': 58, 'output_tokens': 80, 'total_tokens': 138, 'input_token_details': {'audio': 0, 'cache_read': 0}, 'output_token_details': {'audio': 0, 'reasoning': 0}})"
      ]
     },
     "execution_count": 7,
     "metadata": {},
     "output_type": "execute_result"
    }
   ],
   "source": [
    "chain = prompt | model \n",
    "\n",
    "chain.invoke(\n",
    "    {\n",
    "        \"weather\": \"비\",\n",
    "        \"emotion\": \"우울\"\n",
    "    }\n",
    ")"
   ]
  },
  {
   "cell_type": "markdown",
   "metadata": {},
   "source": [
    "## 프롬프트 사용 2"
   ]
  },
  {
   "cell_type": "code",
   "execution_count": 12,
   "metadata": {},
   "outputs": [
    {
     "data": {
      "text/plain": [
       "ChatPromptValue(messages=[SystemMessage(content='너는 친절하고 센스 있는 점심 메뉴 추천 전문가야.', additional_kwargs={}, response_metadata={}), HumanMessage(content='오늘 날씨는 비이고, 나는 우울한 기분이야. 점심 메뉴를 추천해줘.', additional_kwargs={}, response_metadata={})])"
      ]
     },
     "execution_count": 12,
     "metadata": {},
     "output_type": "execute_result"
    }
   ],
   "source": [
    "from langchain_core.prompts import ChatPromptTemplate\n",
    "\n",
    "prompt = ChatPromptTemplate.from_messages([\n",
    "    (\"system\", \"너는 친절하고 센스 있는 점심 메뉴 추천 전문가야.\"),\n",
    "    (\"user\", \"오늘 날씨는 {weather}이고, 나는 {emotion}한 기분이야. 점심 메뉴를 추천해줘.\")\n",
    "])\n",
    "prompt.invoke(\n",
    "    {\n",
    "        \"weather\": \"비\",\n",
    "        \"emotion\": \"우울\"\n",
    "    }\n",
    ")"
   ]
  },
  {
   "cell_type": "code",
   "execution_count": 10,
   "metadata": {},
   "outputs": [
    {
     "data": {
      "text/plain": [
       "AIMessage(content='비 오는 날에는 따뜻하고 위안이 되는 음식을 추천해드릴게요. 다음과 같은 메뉴는 어떨까요?\\n\\n1. **김치찌개** - 뜨끈한 국물과 매콤한 김치가 어우러져 기분을 전환해줄 거예요.\\n2. **부대찌개** - 다양한 재료가 들어가서 푸짐하고, 매운 국물이 스트레스를 날려줄 수 있어요.\\n3. **닭칼국수** - 부드러운 칼국수와 진한 닭육수가 따뜻한 위로가 될 거예요.\\n4. **떡볶이** - 매콤달콤한 떡볶이와 함께 오뎅이나 튀김을 곁들이면 기분이 좋아질 거예요.\\n\\n이 외에도 따뜻한 차나 수프와 함께하면 더욱 좋겠죠? 기분이 조금 나아지길 바라요!', additional_kwargs={'refusal': None}, response_metadata={'token_usage': {'completion_tokens': 214, 'prompt_tokens': 50, 'total_tokens': 264, 'completion_tokens_details': {'accepted_prediction_tokens': 0, 'audio_tokens': 0, 'reasoning_tokens': 0, 'rejected_prediction_tokens': 0}, 'prompt_tokens_details': {'audio_tokens': 0, 'cached_tokens': 0}}, 'model_name': 'gpt-4o-mini-2024-07-18', 'system_fingerprint': 'fp_0392822090', 'id': 'chatcmpl-BRQ3gipHLrQEsiqf6BnHCR0eO2dM4', 'finish_reason': 'stop', 'logprobs': None}, id='run-95f22f32-26d6-46d0-a1d1-1e72b479282a-0', usage_metadata={'input_tokens': 50, 'output_tokens': 214, 'total_tokens': 264, 'input_token_details': {'audio': 0, 'cache_read': 0}, 'output_token_details': {'audio': 0, 'reasoning': 0}})"
      ]
     },
     "execution_count": 10,
     "metadata": {},
     "output_type": "execute_result"
    }
   ],
   "source": [
    "chain = prompt | model \n",
    "\n",
    "chain.invoke(\n",
    "    {\n",
    "        \"weather\": \"비\",\n",
    "        \"emotion\": \"우울\"\n",
    "    }\n",
    ")"
   ]
  },
  {
   "cell_type": "markdown",
   "metadata": {},
   "source": [
    "## 출력 파서"
   ]
  },
  {
   "cell_type": "code",
   "execution_count": 13,
   "metadata": {},
   "outputs": [
    {
     "data": {
      "text/plain": [
       "'비 오는 날에는 따뜻하고 편안한 음식을 추천해드리고 싶어요. 기분을 좋게 해줄 수 있는 메뉴로는 다음과 같은 것들이 있습니다:\\n\\n1. **따뜻한 국물 요리**: 칼국수나 우동 같은 국수 요리는 따뜻하고 부드러운 국물이 기분을 풀어줄 거예요. \\n\\n2. **김치찌개**: 매콤하고 깊은 맛의 김치찌개는 따뜻한 밥과 함께하면 정말 좋습니다. \\n\\n3. **부대찌개**: 다양한 재료가 들어가고 얼큰한 국물로 속을 따뜻하게 해줄 수 있어요.\\n\\n4. **스프**: 크림 스프나 미소된장국 같은 부드러운 스프는 기분을 편안하게 만들어 줄 거예요.\\n\\n5. **따뜻한 샌드위치**: 치즈와 햄이 듬뿍 들어간 따뜻한 샌드위치도 좋은 선택이에요. \\n\\n이런 메뉴들로 따뜻한 점심을 즐기면서 기분을 조금이나마 풀어보세요!'"
      ]
     },
     "execution_count": 13,
     "metadata": {},
     "output_type": "execute_result"
    }
   ],
   "source": [
    "from langchain_core.output_parsers import StrOutputParser\n",
    "\n",
    "output_parser = StrOutputParser()\n",
    "\n",
    "chain = prompt | model | output_parser \n",
    "\n",
    "chain.invoke(\n",
    "    {\n",
    "        \"weather\": \"비\",\n",
    "        \"emotion\": \"우울\"\n",
    "    }\n",
    ")"
   ]
  }
 ],
 "metadata": {
  "kernelspec": {
   "display_name": ".venv",
   "language": "python",
   "name": "python3"
  },
  "language_info": {
   "codemirror_mode": {
    "name": "ipython",
    "version": 3
   },
   "file_extension": ".py",
   "mimetype": "text/x-python",
   "name": "python",
   "nbconvert_exporter": "python",
   "pygments_lexer": "ipython3",
   "version": "3.11.7"
  }
 },
 "nbformat": 4,
 "nbformat_minor": 2
}
