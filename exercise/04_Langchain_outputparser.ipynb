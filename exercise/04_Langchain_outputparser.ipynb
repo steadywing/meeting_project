{
 "cells": [
  {
   "cell_type": "markdown",
   "metadata": {},
   "source": [
    "# 04. Langchain OutputParser"
   ]
  },
  {
   "cell_type": "code",
   "execution_count": 2,
   "metadata": {},
   "outputs": [],
   "source": [
    "from langchain_openai import ChatOpenAI\n",
    "from dotenv import load_dotenv\n",
    "load_dotenv()\n",
    "\n",
    "model = ChatOpenAI(\n",
    "    model=\"gpt-4o-mini\",  # 또는 gpt-4\n",
    "    temperature=0.5       # 창의성 정도\n",
    ")"
   ]
  },
  {
   "cell_type": "code",
   "execution_count": 3,
   "metadata": {},
   "outputs": [],
   "source": [
    "from langchain_core.prompts import PromptTemplate\n",
    "\n",
    "def make_chain(template, output_parser):\n",
    "    prompt = PromptTemplate.from_template(template)\n",
    "    chain = prompt | model | output_parser\n",
    "\n",
    "    return chain "
   ]
  },
  {
   "cell_type": "markdown",
   "metadata": {},
   "source": [
    "## 회의록 요약"
   ]
  },
  {
   "cell_type": "code",
   "execution_count": 4,
   "metadata": {},
   "outputs": [
    {
     "name": "stdout",
     "output_type": "stream",
     "text": [
      " 다들 도착하셨나요?\n",
      " 그럼 회의 시작할게요\n",
      " 먼저 디자인팀 상황부터 공유해 주시겠어요?\n",
      " 네, 디자인팀은 이번 주까지 시한 1차 수정본 제출 목표로 작업 중입니다\n",
      " 주요 피드백 반영했고, 마감은 목요일까지 가능합니다\n",
      " 좋아요\n",
      " 개발팀은요?\n",
      " 기능 개발은 80% 얻었습니다\n",
      " 어... 요그인 기능과 개시판 기능은 이번 주에 마무리할 예정이고\n",
      " 다음 주 월요일부터 내부 테스트를 시작하려고 합니다\n",
      " 일정대로 잘 진행되고 있네요\n",
      " 마케팅 쪽은 어떤가요?\n",
      " 마케팅팀은 5월 초에 있을 프로모션을 준비 중입니다\n",
      " 다만 이번 주 안으로 기획 초안을 작성하는 건 조금 타이트할 것 같은데\n",
      " 가능하다면 기획 초안 제출 기한을 다음 주 수요일까지로 조정해 주실 수 있을까요?\n",
      " 음, 알겠어요\n",
      " 전체 일정에는 영향이 크지 않으니 다음 주 수요일까지로 조정합시다\n",
      " 그럼 지금 남은 과제는 기능 테스트 계획소립, 디자인 수정 최종본 검토,\n",
      " 마케팅 기획 초안 점검 이 세 가지로 정리할 수 있겠네요\n",
      " 네, 테스트 계획 문서는 이번 주 금요일까지 작성해서 공유했습니다\n",
      " 디자인 수정보는 목요일에 완성되는 대로 바로 공유 드리겠습니다\n",
      " 좋아요\n",
      " 마지막으로 다음 회의 일정을 잡을게요\n",
      " 3월 29일, 월요일, 오전 10시에 모두 괜찮으세요?\n",
      " 죄송한데 그날 오전에 내부 회의가 있어서 11시 이후로 미뤄주실 수 있을까요?\n",
      " 저는 괜찮습니다\n",
      " 저도 11시 이후면 문제 없습니다\n",
      " 알겠습니다\n",
      " 그럼 다음 회의는 4월 29일, 월요일, 오전 11시로 확정하겠습니다\n",
      " 오늘 회의는 여기까지 하겠습니다\n",
      " 모두 수고하셨습니다\n",
      "\n"
     ]
    }
   ],
   "source": [
    "with open(\"./output/whisper_full_script.txt\", \"r\") as f:\n",
    "    meeting_transcript = f.read()\n",
    "\n",
    "print(meeting_transcript)"
   ]
  },
  {
   "cell_type": "code",
   "execution_count": null,
   "metadata": {},
   "outputs": [],
   "source": [
    "template = \"\"\"\n",
    "너는 회의록 요약 전문가야.\n",
    "다음 회의록을 읽고, 아래와 같은 형식으로 정리해줘.\n",
    "\n",
    "[회의록 요약 양식]\n",
    "- 회의 일시:  \n",
    "- 회의 주제:  \n",
    "- 내용 요약: 목록형 리스트로 표현\n",
    "- 팀 별 요약:\n",
    "  - [팀 1]: 목록형 리스트로 표현\n",
    "  - [팀 2]: 목록형 리스트로 표현\n",
    "  - ...\n",
    "...\n",
    "\n",
    "[회의록]\n",
    "{meeting_transcript}\n",
    "\"\"\""
   ]
  },
  {
   "cell_type": "code",
   "execution_count": null,
   "metadata": {},
   "outputs": [
    {
     "name": "stdout",
     "output_type": "stream",
     "text": [
      "[회의록 요약 양식]\n",
      "- 회의 일시: 2023년 3월 29일\n",
      "- 회의 주제: 프로젝트 진행 상황 및 다음 회의 일정 조정\n",
      "- 내용 요약:\n",
      "  - 디자인팀은 1차 수정본 제출 목표로 작업 중, 마감은 목요일까지\n",
      "  - 개발팀은 기능 개발 80% 완료, 요그인 기능과 개시판 기능 이번 주 마무리 예정\n",
      "  - 마케팅팀은 5월 초 프로모션 준비 중, 기획 초안 제출 기한을 다음 주 수요일로 조정 요청\n",
      "  - 전체 일정에 큰 영향 없음, 기획 초안 기한 조정 수락\n",
      "  - 남은 과제: 기능 테스트 계획 수립, 디자인 수정 최종본 검토, 마케팅 기획 초안 점검\n",
      "  - 테스트 계획 문서는 금요일까지 작성 및 공유 예정\n",
      "  - 디자인 수정본은 목요일에 완료 후 공유 예정\n",
      "  - 다음 회의 일정은 4월 29일 월요일 오전 11시로 확정\n",
      "\n",
      "- 팀 별 요약:\n",
      "  - [디자인팀]:\n",
      "    - 1차 수정본 제출 목표: 이번 주 목요일\n",
      "    - 주요 피드백 반영 완료\n",
      "  - [개발팀]:\n",
      "    - 기능 개발 80% 완료\n",
      "    - 요그인 기능 및 개시판 기능 이번 주 마무리 예정\n",
      "    - 다음 주 월요일부터 내부 테스트 시작 예정\n",
      "  - [마케팅팀]:\n",
      "    - 5월 초 프로모션 준비 중\n",
      "    - 기획 초안 제출 기한을 다음 주 수요일로 조정 요청\n",
      "    - 조정 수락됨, 전체 일정에 큰 영향 없음\n"
     ]
    }
   ],
   "source": [
    "from langchain_core.output_parsers import StrOutputParser\n",
    "\n",
    "output_parser = StrOutputParser()\n",
    "chain = make_chain(template, output_parser)\n",
    "\n",
    "response = chain.invoke({\"meeting_transcript\": meeting_transcript})\n",
    "print(response)"
   ]
  },
  {
   "cell_type": "markdown",
   "metadata": {},
   "source": [
    "## Do-To List"
   ]
  },
  {
   "cell_type": "code",
   "execution_count": null,
   "metadata": {},
   "outputs": [],
   "source": [
    "template = \"\"\"\n",
    "너는 회의록에서 해야 할 일을 정리하는 비서야.\n",
    "회의정보에는 내 이름과 부서가 포함되어 있어. \n",
    "이를 참고하여 아래 회의록을 읽고, 부서에 맞는 내가 할 일을 간단히 작성해줘.\n",
    "\n",
    "[형식]\n",
    "항목들을 콤마(,)로 구분하여 작성\n",
    "\n",
    "[회의 정보]\n",
    "{meeting_info}\n",
    "\n",
    "[회의록]\n",
    "{meeting_transcript}\n",
    "\"\"\""
   ]
  },
  {
   "cell_type": "code",
   "execution_count": 27,
   "metadata": {},
   "outputs": [
    {
     "name": "stdout",
     "output_type": "stream",
     "text": [
      "['디자인 수정 최종본 검토', '목요일까지 1차 수정본 제출', '다음 회의 일정 확인 (4월 29일 오전 11시)']\n"
     ]
    }
   ],
   "source": [
    "from langchain_core.output_parsers import CommaSeparatedListOutputParser\n",
    "\n",
    "output_parser = CommaSeparatedListOutputParser()\n",
    "chain = make_chain(template, output_parser)\n",
    "\n",
    "response = chain.invoke(\n",
    "    {\n",
    "        \"meeting_info\": {\n",
    "            \"name\": \"김나래\",\n",
    "            \"department\": \"디자인\",\n",
    "            \"meeting_date\": \"2025-04-22\"\n",
    "        },\n",
    "        \"meeting_transcript\": meeting_transcript\n",
    "    }\n",
    ")\n",
    "print(response)"
   ]
  },
  {
   "cell_type": "markdown",
   "metadata": {},
   "source": [
    "## 일정 추출"
   ]
  },
  {
   "cell_type": "code",
   "execution_count": null,
   "metadata": {},
   "outputs": [],
   "source": [
    "template = \"\"\"\n",
    "너는 회의록 중 날짜와 시간 정보를 정리하는 역할이야.\n",
    "회의 정보를 보고, 오늘 회의를 기준일로 설정하고,\n",
    "회의록을 읽고, 일정 정보를 아래와 같은 JSON 형식으로 정리해줘.\n",
    "\n",
    "[형식 예시]\n",
    "[\n",
    "  {{\n",
    "     \"title\": \"회의\",\n",
    "     \"start\": \"2025-05-01T10:00:00\",\n",
    "     \"end\": \"2025-05-05T11:00:00\",\n",
    "     \"allDay\": True\n",
    "  }}\n",
    "]\n",
    "\n",
    "[회의 정보]\n",
    "{meeting_info}\n",
    "\n",
    "[회의록]\n",
    "{meeting_transcript}\n",
    "\"\"\""
   ]
  },
  {
   "cell_type": "code",
   "execution_count": 21,
   "metadata": {},
   "outputs": [
    {
     "name": "stdout",
     "output_type": "stream",
     "text": [
      "[{'title': '디자인팀 1차 수정본 제출', 'start': '2025-04-22T00:00:00', 'end': '2025-04-22T23:59:59', 'allDay': True}, {'title': '기능 개발 마무리', 'start': '2025-04-22T00:00:00', 'end': '2025-04-29T23:59:59', 'allDay': True}, {'title': '마케팅 기획 초안 제출', 'start': '2025-04-29T00:00:00', 'end': '2025-04-29T23:59:59', 'allDay': True}, {'title': '다음 회의', 'start': '2025-04-29T11:00:00', 'end': '2025-04-29T12:00:00', 'allDay': False}]\n"
     ]
    }
   ],
   "source": [
    "from langchain_core.output_parsers import JsonOutputParser\n",
    "\n",
    "output_parser = JsonOutputParser()\n",
    "chain = make_chain(template, output_parser)\n",
    "\n",
    "response = chain.invoke(\n",
    "    {\n",
    "        \"meeting_info\": {\n",
    "            \"name\": \"김나래\",\n",
    "            \"department\": \"디자인\",\n",
    "            \"meeting_date\": \"2025-04-22 Tuesday\"\n",
    "        },\n",
    "        \"meeting_transcript\": meeting_transcript\n",
    "    }\n",
    ")\n",
    "print(response)"
   ]
  },
  {
   "cell_type": "code",
   "execution_count": 22,
   "metadata": {},
   "outputs": [
    {
     "name": "stdout",
     "output_type": "stream",
     "text": [
      "{'title': '디자인팀 1차 수정본 제출', 'start': '2025-04-22T00:00:00', 'end': '2025-04-22T23:59:59', 'allDay': True}\n",
      "{'title': '기능 개발 마무리', 'start': '2025-04-22T00:00:00', 'end': '2025-04-29T23:59:59', 'allDay': True}\n",
      "{'title': '마케팅 기획 초안 제출', 'start': '2025-04-29T00:00:00', 'end': '2025-04-29T23:59:59', 'allDay': True}\n",
      "{'title': '다음 회의', 'start': '2025-04-29T11:00:00', 'end': '2025-04-29T12:00:00', 'allDay': False}\n"
     ]
    }
   ],
   "source": [
    "for schedule in response:\n",
    "    print(schedule)"
   ]
  }
 ],
 "metadata": {
  "kernelspec": {
   "display_name": ".venv",
   "language": "python",
   "name": "python3"
  },
  "language_info": {
   "codemirror_mode": {
    "name": "ipython",
    "version": 3
   },
   "file_extension": ".py",
   "mimetype": "text/x-python",
   "name": "python",
   "nbconvert_exporter": "python",
   "pygments_lexer": "ipython3",
   "version": "3.11.7"
  }
 },
 "nbformat": 4,
 "nbformat_minor": 2
}
